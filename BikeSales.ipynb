{
 "cells": [
  {
   "cell_type": "code",
   "execution_count": 3,
   "id": "58f749f7-da21-4969-b34f-eb610929c8d1",
   "metadata": {},
   "outputs": [],
   "source": [
    "import pandas as pd\n",
    "import numpy as np\n",
    "import panel as pn\n",
    "pn.extension('tabulator')\n",
    "\n",
    "import hvplot.pandas"
   ]
  },
  {
   "cell_type": "code",
   "execution_count": 14,
   "id": "8cf2a01c-ed0a-4aac-bb99-a2a79e6eb818",
   "metadata": {},
   "outputs": [],
   "source": [
    "file = pd.read_csv('Sales.csv')"
   ]
  },
  {
   "cell_type": "code",
   "execution_count": 15,
   "id": "70c1064b-a0f7-41b6-9367-c237ee93be05",
   "metadata": {},
   "outputs": [],
   "source": [
    "#Create interactive dataframe pipeline\n",
    "ifile = file.interactive()"
   ]
  },
  {
   "cell_type": "code",
   "execution_count": 24,
   "id": "e8dd63c5-4026-4dc9-8da7-e6944f0c12a8",
   "metadata": {},
   "outputs": [
    {
     "data": {},
     "metadata": {},
     "output_type": "display_data"
    },
    {
     "data": {
      "application/vnd.holoviews_exec.v0+json": "",
      "text/html": [
       "<div id='1008'>\n",
       "  <div class=\"bk-root\" id=\"93ea37a0-a3eb-4a7d-b4b8-692fa676c11b\" data-root-id=\"1008\"></div>\n",
       "</div>\n",
       "<script type=\"application/javascript\">(function(root) {\n",
       "  function embed_document(root) {\n",
       "    var docs_json = {\"7c713661-8055-4b28-9ab4-1c49b41a2014\":{\"defs\":[{\"extends\":null,\"module\":null,\"name\":\"ReactiveHTML1\",\"overrides\":[],\"properties\":[]},{\"extends\":null,\"module\":null,\"name\":\"FlexBox1\",\"overrides\":[],\"properties\":[{\"default\":\"flex-start\",\"kind\":null,\"name\":\"align_content\"},{\"default\":\"flex-start\",\"kind\":null,\"name\":\"align_items\"},{\"default\":\"row\",\"kind\":null,\"name\":\"flex_direction\"},{\"default\":\"wrap\",\"kind\":null,\"name\":\"flex_wrap\"},{\"default\":\"flex-start\",\"kind\":null,\"name\":\"justify_content\"}]},{\"extends\":null,\"module\":null,\"name\":\"GridStack1\",\"overrides\":[],\"properties\":[{\"default\":\"warn\",\"kind\":null,\"name\":\"mode\"},{\"default\":null,\"kind\":null,\"name\":\"ncols\"},{\"default\":null,\"kind\":null,\"name\":\"nrows\"},{\"default\":true,\"kind\":null,\"name\":\"allow_resize\"},{\"default\":true,\"kind\":null,\"name\":\"allow_drag\"},{\"default\":[],\"kind\":null,\"name\":\"state\"}]},{\"extends\":null,\"module\":null,\"name\":\"click1\",\"overrides\":[],\"properties\":[{\"default\":\"\",\"kind\":null,\"name\":\"terminal_output\"},{\"default\":\"\",\"kind\":null,\"name\":\"debug_name\"},{\"default\":0,\"kind\":null,\"name\":\"clears\"}]},{\"extends\":null,\"module\":null,\"name\":\"NotificationAreaBase1\",\"overrides\":[],\"properties\":[{\"default\":\"bottom-right\",\"kind\":null,\"name\":\"position\"},{\"default\":0,\"kind\":null,\"name\":\"_clear\"}]},{\"extends\":null,\"module\":null,\"name\":\"NotificationArea1\",\"overrides\":[],\"properties\":[{\"default\":[],\"kind\":null,\"name\":\"notifications\"},{\"default\":\"bottom-right\",\"kind\":null,\"name\":\"position\"},{\"default\":0,\"kind\":null,\"name\":\"_clear\"},{\"default\":[{\"background\":\"#ffc107\",\"icon\":{\"className\":\"fas fa-exclamation-triangle\",\"color\":\"white\",\"tagName\":\"i\"},\"type\":\"warning\"},{\"background\":\"#007bff\",\"icon\":{\"className\":\"fas fa-info-circle\",\"color\":\"white\",\"tagName\":\"i\"},\"type\":\"info\"}],\"kind\":null,\"name\":\"types\"}]},{\"extends\":null,\"module\":null,\"name\":\"Notification\",\"overrides\":[],\"properties\":[{\"default\":null,\"kind\":null,\"name\":\"background\"},{\"default\":3000,\"kind\":null,\"name\":\"duration\"},{\"default\":null,\"kind\":null,\"name\":\"icon\"},{\"default\":\"\",\"kind\":null,\"name\":\"message\"},{\"default\":null,\"kind\":null,\"name\":\"notification_type\"},{\"default\":false,\"kind\":null,\"name\":\"_destroyed\"}]},{\"extends\":null,\"module\":null,\"name\":\"TemplateActions1\",\"overrides\":[],\"properties\":[{\"default\":0,\"kind\":null,\"name\":\"open_modal\"},{\"default\":0,\"kind\":null,\"name\":\"close_modal\"}]},{\"extends\":null,\"module\":null,\"name\":\"MaterialTemplateActions1\",\"overrides\":[],\"properties\":[{\"default\":0,\"kind\":null,\"name\":\"open_modal\"},{\"default\":0,\"kind\":null,\"name\":\"close_modal\"}]}],\"roots\":{\"references\":[{\"attributes\":{\"reload\":false},\"id\":\"1010\",\"type\":\"panel.models.location.Location\"},{\"attributes\":{\"end\":2016,\"margin\":[5,10,5,10],\"start\":2011,\"title\":\"Year slider\",\"value\":2011},\"id\":\"1008\",\"type\":\"Slider\"},{\"attributes\":{\"client_comm_id\":\"a63a2388f71f48ee9012073d59de9972\",\"comm_id\":\"0e80d296ad7449f887a1160e758bcc82\",\"plot_id\":\"1008\"},\"id\":\"1009\",\"type\":\"panel.models.comm_manager.CommManager\"}],\"root_ids\":[\"1008\",\"1009\",\"1010\"]},\"title\":\"Bokeh Application\",\"version\":\"2.4.3\"}};\n",
       "    var render_items = [{\"docid\":\"7c713661-8055-4b28-9ab4-1c49b41a2014\",\"root_ids\":[\"1008\"],\"roots\":{\"1008\":\"93ea37a0-a3eb-4a7d-b4b8-692fa676c11b\"}}];\n",
       "    root.Bokeh.embed.embed_items_notebook(docs_json, render_items);\n",
       "    for (const render_item of render_items) {\n",
       "      for (const root_id of render_item.root_ids) {\n",
       "\tconst id_el = document.getElementById(root_id)\n",
       "\tif (id_el.children.length && (id_el.children[0].className === 'bk-root')) {\n",
       "\t  const root_el = id_el.children[0]\n",
       "\t  root_el.id = root_el.id + '-rendered'\n",
       "\t}\n",
       "      }\n",
       "    }\n",
       "  }\n",
       "  if (root.Bokeh !== undefined && root.Bokeh.Panel !== undefined && ( root['Tabulator'] !== undefined) && ( root['Tabulator'] !== undefined)) {\n",
       "    embed_document(root);\n",
       "  } else {\n",
       "    var attempts = 0;\n",
       "    var timer = setInterval(function(root) {\n",
       "      if (root.Bokeh !== undefined && root.Bokeh.Panel !== undefined && (root['Tabulator'] !== undefined) && (root['Tabulator'] !== undefined)) {\n",
       "        clearInterval(timer);\n",
       "        embed_document(root);\n",
       "      } else if (document.readyState == \"complete\") {\n",
       "        attempts++;\n",
       "        if (attempts > 200) {\n",
       "          clearInterval(timer);\n",
       "          console.log(\"Bokeh: ERROR: Unable to run BokehJS code because BokehJS library is missing\");\n",
       "        }\n",
       "      }\n",
       "    }, 25, root)\n",
       "  }\n",
       "})(window);</script>"
      ],
      "text/plain": [
       "IntSlider(end=2016, name='Year slider', start=2011, value=2011)"
      ]
     },
     "execution_count": 24,
     "metadata": {
      "application/vnd.holoviews_exec.v0+json": {
       "id": "1008"
      }
     },
     "output_type": "execute_result"
    }
   ],
   "source": [
    "#Create panel widgets\n",
    "year_slider = pn.widgets.IntSlider(name='Year slider', start=2011, end=2016, step=1)\n",
    "year_slider"
   ]
  },
  {
   "cell_type": "code",
   "execution_count": 25,
   "id": "a311b994-cfe9-4798-aae6-9ca929ca57fb",
   "metadata": {},
   "outputs": [],
   "source": [
    "#Radio buttons for revenue measures\n",
    "yaxis_revenue = pn.widgets.RadioButtonGroup(\n",
    "    name='Y axis',\n",
    "    options = ['Revenue', 'Profit', 'Cost'],\n",
    "    button_type='success'\n",
    ")"
   ]
  },
  {
   "cell_type": "code",
   "execution_count": 39,
   "id": "2546f19d-180e-4cbd-a922-527cbffc643a",
   "metadata": {},
   "outputs": [],
   "source": [
    "Countrys = ['France', 'Germany', 'Canada', 'United Kingdom', 'United States', 'Australia']\n",
    "\n",
    "#Create a pipeline to link the widgets to the dataframe\n",
    "rev_pipeline = (\n",
    "    ifile.loc[(ifile.Year <= year_slider) & (ifile.Country.isin(Countrys))]\n",
    "    .groupby(['Country', 'Year'])[yaxis_revenue].mean()\n",
    "    .to_frame()\n",
    "    .reset_index()\n",
    "    .sort_values(by='Year')\n",
    "    .reset_index(drop=True)\n",
    ")"
   ]
  },
  {
   "cell_type": "code",
   "execution_count": 31,
   "id": "95d06aff-ef60-4026-9340-012a36504610",
   "metadata": {
    "collapsed": true,
    "jupyter": {
     "outputs_hidden": true
    },
    "tags": []
   },
   "outputs": [
    {
     "data": {},
     "metadata": {},
     "output_type": "display_data"
    },
    {
     "data": {
      "application/vnd.holoviews_exec.v0+json": "",
      "text/html": [
       "<div id='1011'>\n",
       "  <div class=\"bk-root\" id=\"1c91b070-a9af-4584-bf7e-fa03312eea54\" data-root-id=\"1011\"></div>\n",
       "</div>\n",
       "<script type=\"application/javascript\">(function(root) {\n",
       "  function embed_document(root) {\n",
       "    var docs_json = {\"f6762a9c-3c93-463d-a137-56cf05fb3b1e\":{\"defs\":[{\"extends\":null,\"module\":null,\"name\":\"ReactiveHTML1\",\"overrides\":[],\"properties\":[]},{\"extends\":null,\"module\":null,\"name\":\"FlexBox1\",\"overrides\":[],\"properties\":[{\"default\":\"flex-start\",\"kind\":null,\"name\":\"align_content\"},{\"default\":\"flex-start\",\"kind\":null,\"name\":\"align_items\"},{\"default\":\"row\",\"kind\":null,\"name\":\"flex_direction\"},{\"default\":\"wrap\",\"kind\":null,\"name\":\"flex_wrap\"},{\"default\":\"flex-start\",\"kind\":null,\"name\":\"justify_content\"}]},{\"extends\":null,\"module\":null,\"name\":\"GridStack1\",\"overrides\":[],\"properties\":[{\"default\":\"warn\",\"kind\":null,\"name\":\"mode\"},{\"default\":null,\"kind\":null,\"name\":\"ncols\"},{\"default\":null,\"kind\":null,\"name\":\"nrows\"},{\"default\":true,\"kind\":null,\"name\":\"allow_resize\"},{\"default\":true,\"kind\":null,\"name\":\"allow_drag\"},{\"default\":[],\"kind\":null,\"name\":\"state\"}]},{\"extends\":null,\"module\":null,\"name\":\"click1\",\"overrides\":[],\"properties\":[{\"default\":\"\",\"kind\":null,\"name\":\"terminal_output\"},{\"default\":\"\",\"kind\":null,\"name\":\"debug_name\"},{\"default\":0,\"kind\":null,\"name\":\"clears\"}]},{\"extends\":null,\"module\":null,\"name\":\"NotificationAreaBase1\",\"overrides\":[],\"properties\":[{\"default\":\"bottom-right\",\"kind\":null,\"name\":\"position\"},{\"default\":0,\"kind\":null,\"name\":\"_clear\"}]},{\"extends\":null,\"module\":null,\"name\":\"NotificationArea1\",\"overrides\":[],\"properties\":[{\"default\":[],\"kind\":null,\"name\":\"notifications\"},{\"default\":\"bottom-right\",\"kind\":null,\"name\":\"position\"},{\"default\":0,\"kind\":null,\"name\":\"_clear\"},{\"default\":[{\"background\":\"#ffc107\",\"icon\":{\"className\":\"fas fa-exclamation-triangle\",\"color\":\"white\",\"tagName\":\"i\"},\"type\":\"warning\"},{\"background\":\"#007bff\",\"icon\":{\"className\":\"fas fa-info-circle\",\"color\":\"white\",\"tagName\":\"i\"},\"type\":\"info\"}],\"kind\":null,\"name\":\"types\"}]},{\"extends\":null,\"module\":null,\"name\":\"Notification\",\"overrides\":[],\"properties\":[{\"default\":null,\"kind\":null,\"name\":\"background\"},{\"default\":3000,\"kind\":null,\"name\":\"duration\"},{\"default\":null,\"kind\":null,\"name\":\"icon\"},{\"default\":\"\",\"kind\":null,\"name\":\"message\"},{\"default\":null,\"kind\":null,\"name\":\"notification_type\"},{\"default\":false,\"kind\":null,\"name\":\"_destroyed\"}]},{\"extends\":null,\"module\":null,\"name\":\"TemplateActions1\",\"overrides\":[],\"properties\":[{\"default\":0,\"kind\":null,\"name\":\"open_modal\"},{\"default\":0,\"kind\":null,\"name\":\"close_modal\"}]},{\"extends\":null,\"module\":null,\"name\":\"MaterialTemplateActions1\",\"overrides\":[],\"properties\":[{\"default\":0,\"kind\":null,\"name\":\"open_modal\"},{\"default\":0,\"kind\":null,\"name\":\"close_modal\"}]}],\"roots\":{\"references\":[{\"attributes\":{\"client_comm_id\":\"bdb89205868145c0bd9e4c14abb6a26b\",\"comm_id\":\"e901a07130304894a7e60e8f96ef311b\",\"plot_id\":\"1011\"},\"id\":\"1020\",\"type\":\"panel.models.comm_manager.CommManager\"},{\"attributes\":{\"margin\":[5,5,5,5],\"name\":\"DataFrame04742\",\"text\":\"&lt;table class=&quot;dataframe panel-df&quot;&gt;\\n  &lt;thead&gt;\\n    &lt;tr style=&quot;text-align: right;&quot;&gt;\\n      &lt;th&gt;&lt;/th&gt;\\n      &lt;th&gt;Country&lt;/th&gt;\\n      &lt;th&gt;Year&lt;/th&gt;\\n      &lt;th&gt;Revenue&lt;/th&gt;\\n    &lt;/tr&gt;\\n  &lt;/thead&gt;\\n  &lt;tbody&gt;\\n    &lt;tr&gt;\\n      &lt;th&gt;0&lt;/th&gt;\\n      &lt;td&gt;Australia&lt;/td&gt;\\n      &lt;td&gt;2011&lt;/td&gt;\\n      &lt;td&gt;2945.185099&lt;/td&gt;\\n    &lt;/tr&gt;\\n    &lt;tr&gt;\\n      &lt;th&gt;1&lt;/th&gt;\\n      &lt;td&gt;Canada&lt;/td&gt;\\n      &lt;td&gt;2011&lt;/td&gt;\\n      &lt;td&gt;3494.681416&lt;/td&gt;\\n    &lt;/tr&gt;\\n    &lt;tr&gt;\\n      &lt;th&gt;2&lt;/th&gt;\\n      &lt;td&gt;France&lt;/td&gt;\\n      &lt;td&gt;2011&lt;/td&gt;\\n      &lt;td&gt;4062.763948&lt;/td&gt;\\n    &lt;/tr&gt;\\n    &lt;tr&gt;\\n      &lt;th&gt;3&lt;/th&gt;\\n      &lt;td&gt;Germany&lt;/td&gt;\\n      &lt;td&gt;2011&lt;/td&gt;\\n      &lt;td&gt;3577.695279&lt;/td&gt;\\n    &lt;/tr&gt;\\n    &lt;tr&gt;\\n      &lt;th&gt;4&lt;/th&gt;\\n      &lt;td&gt;United Kingdom&lt;/td&gt;\\n      &lt;td&gt;2011&lt;/td&gt;\\n      &lt;td&gt;3107.475472&lt;/td&gt;\\n    &lt;/tr&gt;\\n    &lt;tr&gt;\\n      &lt;th&gt;5&lt;/th&gt;\\n      &lt;td&gt;United States&lt;/td&gt;\\n      &lt;td&gt;2011&lt;/td&gt;\\n      &lt;td&gt;3532.483159&lt;/td&gt;\\n    &lt;/tr&gt;\\n  &lt;/tbody&gt;\\n&lt;/table&gt;\"},\"id\":\"1019\",\"type\":\"panel.models.markup.HTML\"},{\"attributes\":{\"children\":[{\"id\":\"1014\"},{\"id\":\"1017\"}],\"margin\":[0,0,0,0],\"name\":\"Row04745\"},\"id\":\"1013\",\"type\":\"Row\"},{\"attributes\":{\"margin\":[5,5,5,5],\"name\":\"HSpacer04744\",\"sizing_mode\":\"stretch_width\"},\"id\":\"1017\",\"type\":\"Spacer\"},{\"attributes\":{\"children\":[{\"id\":\"1019\"}],\"margin\":[0,0,0,0],\"name\":\"Row04710\"},\"id\":\"1018\",\"type\":\"Row\"},{\"attributes\":{\"children\":[{\"id\":\"1012\"}],\"margin\":[0,0,0,0],\"name\":\"Row04747\"},\"id\":\"1011\",\"type\":\"Row\"},{\"attributes\":{\"children\":[{\"id\":\"1015\"},{\"id\":\"1016\"}],\"margin\":[0,0,0,0],\"name\":\"Column04705\"},\"id\":\"1014\",\"type\":\"Column\"},{\"attributes\":{\"end\":2016,\"margin\":[5,10,5,10],\"start\":2011,\"title\":\"Year slider\",\"value\":2011},\"id\":\"1015\",\"type\":\"Slider\"},{\"attributes\":{\"active\":0,\"button_type\":\"success\",\"labels\":[\"Revenue\",\"Profit\",\"Cost\"],\"margin\":[5,10,5,10]},\"id\":\"1016\",\"type\":\"RadioButtonGroup\"},{\"attributes\":{\"children\":[{\"id\":\"1013\"},{\"id\":\"1018\"}],\"margin\":[0,0,0,0],\"name\":\"Column04746\"},\"id\":\"1012\",\"type\":\"Column\"}],\"root_ids\":[\"1011\",\"1020\"]},\"title\":\"Bokeh Application\",\"version\":\"2.4.3\"}};\n",
       "    var render_items = [{\"docid\":\"f6762a9c-3c93-463d-a137-56cf05fb3b1e\",\"root_ids\":[\"1011\"],\"roots\":{\"1011\":\"1c91b070-a9af-4584-bf7e-fa03312eea54\"}}];\n",
       "    root.Bokeh.embed.embed_items_notebook(docs_json, render_items);\n",
       "    for (const render_item of render_items) {\n",
       "      for (const root_id of render_item.root_ids) {\n",
       "\tconst id_el = document.getElementById(root_id)\n",
       "\tif (id_el.children.length && (id_el.children[0].className === 'bk-root')) {\n",
       "\t  const root_el = id_el.children[0]\n",
       "\t  root_el.id = root_el.id + '-rendered'\n",
       "\t}\n",
       "      }\n",
       "    }\n",
       "  }\n",
       "  if (root.Bokeh !== undefined && root.Bokeh.Panel !== undefined && ( root['Tabulator'] !== undefined) && ( root['Tabulator'] !== undefined)) {\n",
       "    embed_document(root);\n",
       "  } else {\n",
       "    var attempts = 0;\n",
       "    var timer = setInterval(function(root) {\n",
       "      if (root.Bokeh !== undefined && root.Bokeh.Panel !== undefined && (root['Tabulator'] !== undefined) && (root['Tabulator'] !== undefined)) {\n",
       "        clearInterval(timer);\n",
       "        embed_document(root);\n",
       "      } else if (document.readyState == \"complete\") {\n",
       "        attempts++;\n",
       "        if (attempts > 200) {\n",
       "          clearInterval(timer);\n",
       "          console.log(\"Bokeh: ERROR: Unable to run BokehJS code because BokehJS library is missing\");\n",
       "        }\n",
       "      }\n",
       "    }, 25, root)\n",
       "  }\n",
       "})(window);</script>"
      ],
      "text/plain": [
       "<hvplot.interactive.Interactive at 0x279453f6440>"
      ]
     },
     "execution_count": 31,
     "metadata": {
      "application/vnd.holoviews_exec.v0+json": {
       "id": "1011"
      }
     },
     "output_type": "execute_result"
    }
   ],
   "source": [
    "rev_pipeline"
   ]
  },
  {
   "cell_type": "code",
   "execution_count": 40,
   "id": "c6314295-d20c-4446-9794-3170c29e0dd2",
   "metadata": {},
   "outputs": [
    {
     "data": {},
     "metadata": {},
     "output_type": "display_data"
    },
    {
     "data": {},
     "metadata": {},
     "output_type": "display_data"
    },
    {
     "data": {
      "application/vnd.holoviews_exec.v0+json": "",
      "text/html": [
       "<div id='3975'>\n",
       "  <div class=\"bk-root\" id=\"27b55a0f-90a3-4511-b7b8-17726afbf1e7\" data-root-id=\"3975\"></div>\n",
       "</div>\n",
       "<script type=\"application/javascript\">(function(root) {\n",
       "  function embed_document(root) {\n",
       "    var docs_json = {\"63eea979-2cde-4459-a6a0-38302599d83f\":{\"defs\":[{\"extends\":null,\"module\":null,\"name\":\"ReactiveHTML1\",\"overrides\":[],\"properties\":[]},{\"extends\":null,\"module\":null,\"name\":\"FlexBox1\",\"overrides\":[],\"properties\":[{\"default\":\"flex-start\",\"kind\":null,\"name\":\"align_content\"},{\"default\":\"flex-start\",\"kind\":null,\"name\":\"align_items\"},{\"default\":\"row\",\"kind\":null,\"name\":\"flex_direction\"},{\"default\":\"wrap\",\"kind\":null,\"name\":\"flex_wrap\"},{\"default\":\"flex-start\",\"kind\":null,\"name\":\"justify_content\"}]},{\"extends\":null,\"module\":null,\"name\":\"GridStack1\",\"overrides\":[],\"properties\":[{\"default\":\"warn\",\"kind\":null,\"name\":\"mode\"},{\"default\":null,\"kind\":null,\"name\":\"ncols\"},{\"default\":null,\"kind\":null,\"name\":\"nrows\"},{\"default\":true,\"kind\":null,\"name\":\"allow_resize\"},{\"default\":true,\"kind\":null,\"name\":\"allow_drag\"},{\"default\":[],\"kind\":null,\"name\":\"state\"}]},{\"extends\":null,\"module\":null,\"name\":\"click1\",\"overrides\":[],\"properties\":[{\"default\":\"\",\"kind\":null,\"name\":\"terminal_output\"},{\"default\":\"\",\"kind\":null,\"name\":\"debug_name\"},{\"default\":0,\"kind\":null,\"name\":\"clears\"}]},{\"extends\":null,\"module\":null,\"name\":\"NotificationAreaBase1\",\"overrides\":[],\"properties\":[{\"default\":\"bottom-right\",\"kind\":null,\"name\":\"position\"},{\"default\":0,\"kind\":null,\"name\":\"_clear\"}]},{\"extends\":null,\"module\":null,\"name\":\"NotificationArea1\",\"overrides\":[],\"properties\":[{\"default\":[],\"kind\":null,\"name\":\"notifications\"},{\"default\":\"bottom-right\",\"kind\":null,\"name\":\"position\"},{\"default\":0,\"kind\":null,\"name\":\"_clear\"},{\"default\":[{\"background\":\"#ffc107\",\"icon\":{\"className\":\"fas fa-exclamation-triangle\",\"color\":\"white\",\"tagName\":\"i\"},\"type\":\"warning\"},{\"background\":\"#007bff\",\"icon\":{\"className\":\"fas fa-info-circle\",\"color\":\"white\",\"tagName\":\"i\"},\"type\":\"info\"}],\"kind\":null,\"name\":\"types\"}]},{\"extends\":null,\"module\":null,\"name\":\"Notification\",\"overrides\":[],\"properties\":[{\"default\":null,\"kind\":null,\"name\":\"background\"},{\"default\":3000,\"kind\":null,\"name\":\"duration\"},{\"default\":null,\"kind\":null,\"name\":\"icon\"},{\"default\":\"\",\"kind\":null,\"name\":\"message\"},{\"default\":null,\"kind\":null,\"name\":\"notification_type\"},{\"default\":false,\"kind\":null,\"name\":\"_destroyed\"}]},{\"extends\":null,\"module\":null,\"name\":\"TemplateActions1\",\"overrides\":[],\"properties\":[{\"default\":0,\"kind\":null,\"name\":\"open_modal\"},{\"default\":0,\"kind\":null,\"name\":\"close_modal\"}]},{\"extends\":null,\"module\":null,\"name\":\"MaterialTemplateActions1\",\"overrides\":[],\"properties\":[{\"default\":0,\"kind\":null,\"name\":\"open_modal\"},{\"default\":0,\"kind\":null,\"name\":\"close_modal\"}]}],\"roots\":{\"references\":[{\"attributes\":{},\"id\":\"4004\",\"type\":\"BasicTicker\"},{\"attributes\":{},\"id\":\"4009\",\"type\":\"WheelZoomTool\"},{\"attributes\":{},\"id\":\"4007\",\"type\":\"SaveTool\"},{\"attributes\":{},\"id\":\"4064\",\"type\":\"UnionRenderers\"},{\"attributes\":{\"overlay\":{\"id\":\"4012\"}},\"id\":\"4010\",\"type\":\"BoxZoomTool\"},{\"attributes\":{\"line_color\":\"#8b8b8b\",\"line_width\":2,\"x\":{\"field\":\"Year\"},\"y\":{\"field\":\"Revenue\"}},\"id\":\"4146\",\"type\":\"Line\"},{\"attributes\":{},\"id\":\"4011\",\"type\":\"ResetTool\"},{\"attributes\":{\"line_color\":\"#8b8b8b\",\"line_width\":2,\"x\":{\"field\":\"Year\"},\"y\":{\"field\":\"Revenue\"}},\"id\":\"4122\",\"type\":\"Line\"},{\"attributes\":{\"active\":0,\"button_type\":\"success\",\"labels\":[\"Revenue\",\"Profit\",\"Cost\"],\"margin\":[5,10,5,10]},\"id\":\"3980\",\"type\":\"RadioButtonGroup\"},{\"attributes\":{\"data\":{\"Country\":[\"Germany\",\"Germany\",\"Germany\",\"Germany\",\"Germany\",\"Germany\"],\"Revenue\":{\"__ndarray__\":\"IOua+2Pzq0D3x7rm/gCsQJN2mugAJIRAmrgQFBhggUCIHdKl6sWKQPUlx7tHsYZA\",\"dtype\":\"float64\",\"order\":\"little\",\"shape\":[6]},\"Year\":[2011,2012,2013,2014,2015,2016]},\"selected\":{\"id\":\"4094\"},\"selection_policy\":{\"id\":\"4114\"}},\"id\":\"4093\",\"type\":\"ColumnDataSource\"},{\"attributes\":{\"bottom_units\":\"screen\",\"coordinates\":null,\"fill_alpha\":0.5,\"fill_color\":\"lightgrey\",\"group\":null,\"left_units\":\"screen\",\"level\":\"overlay\",\"line_alpha\":1.0,\"line_color\":\"black\",\"line_dash\":[4,4],\"line_width\":2,\"right_units\":\"screen\",\"syncable\":false,\"top_units\":\"screen\"},\"id\":\"4012\",\"type\":\"BoxAnnotation\"},{\"attributes\":{},\"id\":\"4094\",\"type\":\"Selection\"},{\"attributes\":{\"line_alpha\":0.1,\"line_color\":\"#17becf\",\"line_width\":2,\"x\":{\"field\":\"Year\"},\"y\":{\"field\":\"Revenue\"}},\"id\":\"4151\",\"type\":\"Line\"},{\"attributes\":{},\"id\":\"4022\",\"type\":\"AllLabels\"},{\"attributes\":{\"coordinates\":null,\"data_source\":{\"id\":\"4093\"},\"glyph\":{\"id\":\"4096\"},\"group\":null,\"hover_glyph\":null,\"muted_glyph\":{\"id\":\"4098\"},\"nonselection_glyph\":{\"id\":\"4097\"},\"selection_glyph\":{\"id\":\"4118\"},\"view\":{\"id\":\"4100\"}},\"id\":\"4099\",\"type\":\"GlyphRenderer\"},{\"attributes\":{},\"id\":\"4148\",\"type\":\"Selection\"},{\"attributes\":{\"source\":{\"id\":\"4093\"}},\"id\":\"4100\",\"type\":\"CDSView\"},{\"attributes\":{\"label\":{\"value\":\"Germany\"},\"renderers\":[{\"id\":\"4099\"}]},\"id\":\"4117\",\"type\":\"LegendItem\"},{\"attributes\":{\"data\":{\"Country\":[\"United States\",\"United States\",\"United States\",\"United States\",\"United States\",\"United States\"],\"Revenue\":{\"__ndarray__\":\"L7+hYPeYq0A4CVVKvpasQELFHr9SH4JA2fsJ14IFfUDy9pKWDhWHQDSvChNxv4FA\",\"dtype\":\"float64\",\"order\":\"little\",\"shape\":[6]},\"Year\":[2011,2012,2013,2014,2015,2016]},\"selected\":{\"id\":\"4148\"},\"selection_policy\":{\"id\":\"4172\"}},\"id\":\"4147\",\"type\":\"ColumnDataSource\"},{\"attributes\":{\"line_alpha\":0.2,\"line_color\":\"#8b8b8b\",\"line_width\":2,\"x\":{\"field\":\"Year\"},\"y\":{\"field\":\"Revenue\"}},\"id\":\"4124\",\"type\":\"Line\"},{\"attributes\":{\"active_drag\":{\"id\":\"4008\"},\"active_scroll\":{\"id\":\"4009\"},\"tools\":[{\"id\":\"3984\"},{\"id\":\"4007\"},{\"id\":\"4008\"},{\"id\":\"4009\"},{\"id\":\"4010\"},{\"id\":\"4011\"}]},\"id\":\"4013\",\"type\":\"Toolbar\"},{\"attributes\":{},\"id\":\"4114\",\"type\":\"UnionRenderers\"},{\"attributes\":{\"coordinates\":null,\"data_source\":{\"id\":\"4147\"},\"glyph\":{\"id\":\"4150\"},\"group\":null,\"hover_glyph\":null,\"muted_glyph\":{\"id\":\"4152\"},\"nonselection_glyph\":{\"id\":\"4151\"},\"selection_glyph\":{\"id\":\"4176\"},\"view\":{\"id\":\"4154\"}},\"id\":\"4153\",\"type\":\"GlyphRenderer\"},{\"attributes\":{\"line_alpha\":0.2,\"line_color\":\"#17becf\",\"line_width\":2,\"x\":{\"field\":\"Year\"},\"y\":{\"field\":\"Revenue\"}},\"id\":\"4152\",\"type\":\"Line\"},{\"attributes\":{},\"id\":\"4025\",\"type\":\"AllLabels\"},{\"attributes\":{\"source\":{\"id\":\"4147\"}},\"id\":\"4154\",\"type\":\"CDSView\"},{\"attributes\":{},\"id\":\"4024\",\"type\":\"BasicTickFormatter\"},{\"attributes\":{},\"id\":\"4172\",\"type\":\"UnionRenderers\"},{\"attributes\":{\"data\":{\"Country\":[\"Australia\",\"Australia\",\"Australia\",\"Australia\",\"Australia\",\"Australia\"],\"Revenue\":{\"__ndarray__\":\"DDVKxV4Cp0BQST69n0KnQKAs0rxHD4hA8Y6sastWfkAFYGl06rqQQFWK2NrEcINA\",\"dtype\":\"float64\",\"order\":\"little\",\"shape\":[6]},\"Year\":[2011,2012,2013,2014,2015,2016]},\"selected\":{\"id\":\"4027\"},\"selection_policy\":{\"id\":\"4041\"}},\"id\":\"4026\",\"type\":\"ColumnDataSource\"},{\"attributes\":{\"line_color\":\"#fc4f30\",\"line_width\":2,\"x\":{\"field\":\"Year\"},\"y\":{\"field\":\"Revenue\"}},\"id\":\"4068\",\"type\":\"Line\"},{\"attributes\":{\"line_alpha\":0.1,\"line_color\":\"#30a2da\",\"line_width\":2,\"x\":{\"field\":\"Year\"},\"y\":{\"field\":\"Revenue\"}},\"id\":\"4030\",\"type\":\"Line\"},{\"attributes\":{\"line_alpha\":0.2,\"line_color\":\"#e5ae38\",\"line_width\":2,\"x\":{\"field\":\"Year\"},\"y\":{\"field\":\"Revenue\"}},\"id\":\"4074\",\"type\":\"Line\"},{\"attributes\":{\"line_color\":\"#30a2da\",\"line_width\":2,\"x\":{\"field\":\"Year\"},\"y\":{\"field\":\"Revenue\"}},\"id\":\"4029\",\"type\":\"Line\"},{\"attributes\":{\"line_alpha\":0.2,\"line_color\":\"#30a2da\",\"line_width\":2,\"x\":{\"field\":\"Year\"},\"y\":{\"field\":\"Revenue\"}},\"id\":\"4031\",\"type\":\"Line\"},{\"attributes\":{\"line_color\":\"#e5ae38\",\"line_width\":2,\"x\":{\"field\":\"Year\"},\"y\":{\"field\":\"Revenue\"}},\"id\":\"4072\",\"type\":\"Line\"},{\"attributes\":{},\"id\":\"4027\",\"type\":\"Selection\"},{\"attributes\":{\"coordinates\":null,\"data_source\":{\"id\":\"4026\"},\"glyph\":{\"id\":\"4029\"},\"group\":null,\"hover_glyph\":null,\"muted_glyph\":{\"id\":\"4031\"},\"nonselection_glyph\":{\"id\":\"4030\"},\"selection_glyph\":{\"id\":\"4046\"},\"view\":{\"id\":\"4033\"}},\"id\":\"4032\",\"type\":\"GlyphRenderer\"},{\"attributes\":{\"line_color\":\"#6d904f\",\"line_width\":2,\"x\":{\"field\":\"Year\"},\"y\":{\"field\":\"Revenue\"}},\"id\":\"4096\",\"type\":\"Line\"},{\"attributes\":{\"source\":{\"id\":\"4026\"}},\"id\":\"4033\",\"type\":\"CDSView\"},{\"attributes\":{\"line_alpha\":0.1,\"line_color\":\"#8b8b8b\",\"line_width\":2,\"x\":{\"field\":\"Year\"},\"y\":{\"field\":\"Revenue\"}},\"id\":\"4123\",\"type\":\"Line\"},{\"attributes\":{\"click_policy\":\"mute\",\"coordinates\":null,\"group\":null,\"items\":[{\"id\":\"4045\"},{\"id\":\"4067\"},{\"id\":\"4091\"},{\"id\":\"4117\"},{\"id\":\"4145\"},{\"id\":\"4175\"}],\"location\":[0,0],\"title\":\"Country\"},\"id\":\"4044\",\"type\":\"Legend\"},{\"attributes\":{\"end\":2016.0,\"reset_end\":2016.0,\"reset_start\":2011.0,\"start\":2011.0,\"tags\":[[[\"Year\",\"Year\",null]]]},\"id\":\"3982\",\"type\":\"Range1d\"},{\"attributes\":{},\"id\":\"4021\",\"type\":\"BasicTickFormatter\"},{\"attributes\":{},\"id\":\"4070\",\"type\":\"Selection\"},{\"attributes\":{\"line_alpha\":0.1,\"line_color\":\"#e5ae38\",\"line_width\":2,\"x\":{\"field\":\"Year\"},\"y\":{\"field\":\"Revenue\"}},\"id\":\"4073\",\"type\":\"Line\"},{\"attributes\":{\"line_color\":\"#6d904f\",\"line_width\":2,\"x\":{\"field\":\"Year\"},\"y\":{\"field\":\"Revenue\"}},\"id\":\"4118\",\"type\":\"Line\"},{\"attributes\":{\"coordinates\":null,\"data_source\":{\"id\":\"4069\"},\"glyph\":{\"id\":\"4072\"},\"group\":null,\"hover_glyph\":null,\"muted_glyph\":{\"id\":\"4074\"},\"nonselection_glyph\":{\"id\":\"4073\"},\"selection_glyph\":{\"id\":\"4092\"},\"view\":{\"id\":\"4076\"}},\"id\":\"4075\",\"type\":\"GlyphRenderer\"},{\"attributes\":{\"source\":{\"id\":\"4069\"}},\"id\":\"4076\",\"type\":\"CDSView\"},{\"attributes\":{\"label\":{\"value\":\"France\"},\"renderers\":[{\"id\":\"4075\"}]},\"id\":\"4091\",\"type\":\"LegendItem\"},{\"attributes\":{\"end\":4503.3931447512105,\"reset_end\":4503.3931447512105,\"reset_start\":15.619613745268623,\"start\":15.619613745268623,\"tags\":[[[\"Revenue\",\"Revenue\",null]]]},\"id\":\"3983\",\"type\":\"Range1d\"},{\"attributes\":{\"line_alpha\":0.2,\"line_color\":\"#6d904f\",\"line_width\":2,\"x\":{\"field\":\"Year\"},\"y\":{\"field\":\"Revenue\"}},\"id\":\"4098\",\"type\":\"Line\"},{\"attributes\":{},\"id\":\"4088\",\"type\":\"UnionRenderers\"},{\"attributes\":{},\"id\":\"4041\",\"type\":\"UnionRenderers\"},{\"attributes\":{},\"id\":\"3995\",\"type\":\"LinearScale\"},{\"attributes\":{\"callback\":null,\"renderers\":[{\"id\":\"4032\"},{\"id\":\"4053\"},{\"id\":\"4075\"},{\"id\":\"4099\"},{\"id\":\"4125\"},{\"id\":\"4153\"}],\"tags\":[\"hv_created\"],\"tooltips\":[[\"Country\",\"@{Country}\"],[\"Year\",\"@{Year}\"],[\"Revenue\",\"@{Revenue}\"]]},\"id\":\"3984\",\"type\":\"HoverTool\"},{\"attributes\":{\"below\":[{\"id\":\"3999\"}],\"center\":[{\"id\":\"4002\"},{\"id\":\"4006\"}],\"height\":300,\"left\":[{\"id\":\"4003\"}],\"margin\":[5,5,5,5],\"min_border_bottom\":10,\"min_border_left\":10,\"min_border_right\":10,\"min_border_top\":10,\"renderers\":[{\"id\":\"4032\"},{\"id\":\"4053\"},{\"id\":\"4075\"},{\"id\":\"4099\"},{\"id\":\"4125\"},{\"id\":\"4153\"}],\"right\":[{\"id\":\"4044\"}],\"sizing_mode\":\"fixed\",\"title\":{\"id\":\"3991\"},\"toolbar\":{\"id\":\"4013\"},\"width\":700,\"x_range\":{\"id\":\"3982\"},\"x_scale\":{\"id\":\"3995\"},\"y_range\":{\"id\":\"3983\"},\"y_scale\":{\"id\":\"3997\"}},\"id\":\"3990\",\"subtype\":\"Figure\",\"type\":\"Plot\"},{\"attributes\":{\"client_comm_id\":\"75dc1dd07d65469f97fbcb8136ca7b1d\",\"comm_id\":\"e0fef64364a84a94bbc94dd9ac90dbac\",\"plot_id\":\"3975\"},\"id\":\"4261\",\"type\":\"panel.models.comm_manager.CommManager\"},{\"attributes\":{\"line_color\":\"#17becf\",\"line_width\":2,\"x\":{\"field\":\"Year\"},\"y\":{\"field\":\"Revenue\"}},\"id\":\"4150\",\"type\":\"Line\"},{\"attributes\":{\"line_color\":\"#17becf\",\"line_width\":2,\"x\":{\"field\":\"Year\"},\"y\":{\"field\":\"Revenue\"}},\"id\":\"4176\",\"type\":\"Line\"},{\"attributes\":{\"data\":{\"Country\":[\"United Kingdom\",\"United Kingdom\",\"United Kingdom\",\"United Kingdom\",\"United Kingdom\",\"United Kingdom\"],\"Revenue\":{\"__ndarray__\":\"JMMGcfNGqEDLPofUBJ2oQGqOdSWVsINAZyDBHOqVgUCFkX+3ayyKQDb9xFox4oZA\",\"dtype\":\"float64\",\"order\":\"little\",\"shape\":[6]},\"Year\":[2011,2012,2013,2014,2015,2016]},\"selected\":{\"id\":\"4120\"},\"selection_policy\":{\"id\":\"4142\"}},\"id\":\"4119\",\"type\":\"ColumnDataSource\"},{\"attributes\":{\"line_alpha\":0.2,\"line_color\":\"#fc4f30\",\"line_width\":2,\"x\":{\"field\":\"Year\"},\"y\":{\"field\":\"Revenue\"}},\"id\":\"4052\",\"type\":\"Line\"},{\"attributes\":{},\"id\":\"4120\",\"type\":\"Selection\"},{\"attributes\":{\"label\":{\"value\":\"Australia\"},\"renderers\":[{\"id\":\"4032\"}]},\"id\":\"4045\",\"type\":\"LegendItem\"},{\"attributes\":{\"line_alpha\":0.1,\"line_color\":\"#fc4f30\",\"line_width\":2,\"x\":{\"field\":\"Year\"},\"y\":{\"field\":\"Revenue\"}},\"id\":\"4051\",\"type\":\"Line\"},{\"attributes\":{\"coordinates\":null,\"data_source\":{\"id\":\"4119\"},\"glyph\":{\"id\":\"4122\"},\"group\":null,\"hover_glyph\":null,\"muted_glyph\":{\"id\":\"4124\"},\"nonselection_glyph\":{\"id\":\"4123\"},\"selection_glyph\":{\"id\":\"4146\"},\"view\":{\"id\":\"4126\"}},\"id\":\"4125\",\"type\":\"GlyphRenderer\"},{\"attributes\":{\"children\":[{\"id\":\"3977\"},{\"id\":\"3990\"}],\"margin\":[0,0,0,0],\"name\":\"Column14848\"},\"id\":\"3976\",\"type\":\"Column\"},{\"attributes\":{\"line_color\":\"#30a2da\",\"line_width\":2,\"x\":{\"field\":\"Year\"},\"y\":{\"field\":\"Revenue\"}},\"id\":\"4046\",\"type\":\"Line\"},{\"attributes\":{\"source\":{\"id\":\"4119\"}},\"id\":\"4126\",\"type\":\"CDSView\"},{\"attributes\":{\"end\":2016,\"margin\":[5,10,5,10],\"start\":2011,\"title\":\"Year slider\",\"value\":2016},\"id\":\"3979\",\"type\":\"Slider\"},{\"attributes\":{\"label\":{\"value\":\"United Kingdom\"},\"renderers\":[{\"id\":\"4125\"}]},\"id\":\"4145\",\"type\":\"LegendItem\"},{\"attributes\":{\"label\":{\"value\":\"United States\"},\"renderers\":[{\"id\":\"4153\"}]},\"id\":\"4175\",\"type\":\"LegendItem\"},{\"attributes\":{\"data\":{\"Country\":[\"France\",\"France\",\"France\",\"France\",\"France\",\"France\"],\"Revenue\":{\"__ndarray__\":\"OexBJIe9r0BMA/V5aSGwQEQbxIf7h4NA9xtl9xulfUDeIwVmlZ2JQEdVP+Du8IJA\",\"dtype\":\"float64\",\"order\":\"little\",\"shape\":[6]},\"Year\":[2011,2012,2013,2014,2015,2016]},\"selected\":{\"id\":\"4070\"},\"selection_policy\":{\"id\":\"4088\"}},\"id\":\"4069\",\"type\":\"ColumnDataSource\"},{\"attributes\":{},\"id\":\"4142\",\"type\":\"UnionRenderers\"},{\"attributes\":{\"margin\":[5,5,5,5],\"name\":\"HSpacer14841\",\"sizing_mode\":\"stretch_width\"},\"id\":\"3981\",\"type\":\"Spacer\"},{\"attributes\":{\"children\":[{\"id\":\"3979\"},{\"id\":\"3980\"}],\"margin\":[0,0,0,0],\"name\":\"Column14837\"},\"id\":\"3978\",\"type\":\"Column\"},{\"attributes\":{\"line_color\":\"#fc4f30\",\"line_width\":2,\"x\":{\"field\":\"Year\"},\"y\":{\"field\":\"Revenue\"}},\"id\":\"4050\",\"type\":\"Line\"},{\"attributes\":{\"coordinates\":null,\"group\":null,\"text\":\"Revenue gained based on country\",\"text_color\":\"black\",\"text_font_size\":\"12pt\"},\"id\":\"3991\",\"type\":\"Title\"},{\"attributes\":{},\"id\":\"4008\",\"type\":\"PanTool\"},{\"attributes\":{\"source\":{\"id\":\"4047\"}},\"id\":\"4054\",\"type\":\"CDSView\"},{\"attributes\":{\"children\":[{\"id\":\"3978\"},{\"id\":\"3981\"}],\"margin\":[0,0,0,0],\"name\":\"Row14842\"},\"id\":\"3977\",\"type\":\"Row\"},{\"attributes\":{\"label\":{\"value\":\"Canada\"},\"renderers\":[{\"id\":\"4053\"}]},\"id\":\"4067\",\"type\":\"LegendItem\"},{\"attributes\":{\"axis\":{\"id\":\"3999\"},\"coordinates\":null,\"grid_line_color\":null,\"group\":null,\"ticker\":null},\"id\":\"4002\",\"type\":\"Grid\"},{\"attributes\":{\"line_alpha\":0.1,\"line_color\":\"#6d904f\",\"line_width\":2,\"x\":{\"field\":\"Year\"},\"y\":{\"field\":\"Revenue\"}},\"id\":\"4097\",\"type\":\"Line\"},{\"attributes\":{\"data\":{\"Country\":[\"Canada\",\"Canada\",\"Canada\",\"Canada\",\"Canada\",\"Canada\"],\"Revenue\":{\"__ndarray__\":\"znWM4lxNq0C1sNJTC+KsQDqF+0xQPH1AP53wopxZeED+3NTb1YmBQM9NhGBwhntA\",\"dtype\":\"float64\",\"order\":\"little\",\"shape\":[6]},\"Year\":[2011,2012,2013,2014,2015,2016]},\"selected\":{\"id\":\"4048\"},\"selection_policy\":{\"id\":\"4064\"}},\"id\":\"4047\",\"type\":\"ColumnDataSource\"},{\"attributes\":{\"axis_label\":\"Year\",\"coordinates\":null,\"formatter\":{\"id\":\"4021\"},\"group\":null,\"major_label_policy\":{\"id\":\"4022\"},\"ticker\":{\"id\":\"4000\"}},\"id\":\"3999\",\"type\":\"LinearAxis\"},{\"attributes\":{},\"id\":\"3997\",\"type\":\"LinearScale\"},{\"attributes\":{},\"id\":\"4048\",\"type\":\"Selection\"},{\"attributes\":{\"children\":[{\"id\":\"3976\"}],\"margin\":[0,0,0,0],\"name\":\"Row14849\"},\"id\":\"3975\",\"type\":\"Row\"},{\"attributes\":{},\"id\":\"4000\",\"type\":\"BasicTicker\"},{\"attributes\":{\"line_color\":\"#e5ae38\",\"line_width\":2,\"x\":{\"field\":\"Year\"},\"y\":{\"field\":\"Revenue\"}},\"id\":\"4092\",\"type\":\"Line\"},{\"attributes\":{\"axis_label\":\"Revenue\",\"coordinates\":null,\"formatter\":{\"id\":\"4024\"},\"group\":null,\"major_label_policy\":{\"id\":\"4025\"},\"ticker\":{\"id\":\"4004\"}},\"id\":\"4003\",\"type\":\"LinearAxis\"},{\"attributes\":{\"coordinates\":null,\"data_source\":{\"id\":\"4047\"},\"glyph\":{\"id\":\"4050\"},\"group\":null,\"hover_glyph\":null,\"muted_glyph\":{\"id\":\"4052\"},\"nonselection_glyph\":{\"id\":\"4051\"},\"selection_glyph\":{\"id\":\"4068\"},\"view\":{\"id\":\"4054\"}},\"id\":\"4053\",\"type\":\"GlyphRenderer\"},{\"attributes\":{\"axis\":{\"id\":\"4003\"},\"coordinates\":null,\"dimension\":1,\"grid_line_color\":null,\"group\":null,\"ticker\":null},\"id\":\"4006\",\"type\":\"Grid\"}],\"root_ids\":[\"3975\",\"4261\"]},\"title\":\"Bokeh Application\",\"version\":\"2.4.3\"}};\n",
       "    var render_items = [{\"docid\":\"63eea979-2cde-4459-a6a0-38302599d83f\",\"root_ids\":[\"3975\"],\"roots\":{\"3975\":\"27b55a0f-90a3-4511-b7b8-17726afbf1e7\"}}];\n",
       "    root.Bokeh.embed.embed_items_notebook(docs_json, render_items);\n",
       "    for (const render_item of render_items) {\n",
       "      for (const root_id of render_item.root_ids) {\n",
       "\tconst id_el = document.getElementById(root_id)\n",
       "\tif (id_el.children.length && (id_el.children[0].className === 'bk-root')) {\n",
       "\t  const root_el = id_el.children[0]\n",
       "\t  root_el.id = root_el.id + '-rendered'\n",
       "\t}\n",
       "      }\n",
       "    }\n",
       "  }\n",
       "  if (root.Bokeh !== undefined && root.Bokeh.Panel !== undefined && ( root['Tabulator'] !== undefined) && ( root['Tabulator'] !== undefined)) {\n",
       "    embed_document(root);\n",
       "  } else {\n",
       "    var attempts = 0;\n",
       "    var timer = setInterval(function(root) {\n",
       "      if (root.Bokeh !== undefined && root.Bokeh.Panel !== undefined && (root['Tabulator'] !== undefined) && (root['Tabulator'] !== undefined)) {\n",
       "        clearInterval(timer);\n",
       "        embed_document(root);\n",
       "      } else if (document.readyState == \"complete\") {\n",
       "        attempts++;\n",
       "        if (attempts > 200) {\n",
       "          clearInterval(timer);\n",
       "          console.log(\"Bokeh: ERROR: Unable to run BokehJS code because BokehJS library is missing\");\n",
       "        }\n",
       "      }\n",
       "    }, 25, root)\n",
       "  }\n",
       "})(window);</script>"
      ],
      "text/plain": [
       "<hvplot.interactive.Interactive at 0x27945727130>"
      ]
     },
     "execution_count": 40,
     "metadata": {
      "application/vnd.holoviews_exec.v0+json": {
       "id": "3975"
      }
     },
     "output_type": "execute_result"
    }
   ],
   "source": [
    "#Creating line plot\n",
    "revenue_plot = rev_pipeline.hvplot(x = 'Year', by='Country', y=yaxis_revenue, line_width=2, title='Revenue gained based on country')\n",
    "revenue_plot"
   ]
  },
  {
   "cell_type": "code",
   "execution_count": 41,
   "id": "e8743acc-1517-4d62-8dac-870526ef2f19",
   "metadata": {},
   "outputs": [
    {
     "name": "stderr",
     "output_type": "stream",
     "text": [
      "WARNING:param.Tabulator15241: Setting non-parameter attribute pagingation=remote using a mechanism intended only for parameters\n",
      "WARNING:param.Tabulator15279: Setting non-parameter attribute pagingation=remote using a mechanism intended only for parameters\n"
     ]
    },
    {
     "data": {},
     "metadata": {},
     "output_type": "display_data"
    },
    {
     "data": {
      "application/vnd.holoviews_exec.v0+json": "",
      "text/html": [
       "<div id='4362'>\n",
       "  <div class=\"bk-root\" id=\"dc439e80-54eb-4953-ba40-551a1e100909\" data-root-id=\"4362\"></div>\n",
       "</div>\n",
       "<script type=\"application/javascript\">(function(root) {\n",
       "  function embed_document(root) {\n",
       "    var docs_json = {\"b20f0d79-a002-4b83-ab83-0d9a1f90a01e\":{\"defs\":[{\"extends\":null,\"module\":null,\"name\":\"ReactiveHTML1\",\"overrides\":[],\"properties\":[]},{\"extends\":null,\"module\":null,\"name\":\"FlexBox1\",\"overrides\":[],\"properties\":[{\"default\":\"flex-start\",\"kind\":null,\"name\":\"align_content\"},{\"default\":\"flex-start\",\"kind\":null,\"name\":\"align_items\"},{\"default\":\"row\",\"kind\":null,\"name\":\"flex_direction\"},{\"default\":\"wrap\",\"kind\":null,\"name\":\"flex_wrap\"},{\"default\":\"flex-start\",\"kind\":null,\"name\":\"justify_content\"}]},{\"extends\":null,\"module\":null,\"name\":\"GridStack1\",\"overrides\":[],\"properties\":[{\"default\":\"warn\",\"kind\":null,\"name\":\"mode\"},{\"default\":null,\"kind\":null,\"name\":\"ncols\"},{\"default\":null,\"kind\":null,\"name\":\"nrows\"},{\"default\":true,\"kind\":null,\"name\":\"allow_resize\"},{\"default\":true,\"kind\":null,\"name\":\"allow_drag\"},{\"default\":[],\"kind\":null,\"name\":\"state\"}]},{\"extends\":null,\"module\":null,\"name\":\"click1\",\"overrides\":[],\"properties\":[{\"default\":\"\",\"kind\":null,\"name\":\"terminal_output\"},{\"default\":\"\",\"kind\":null,\"name\":\"debug_name\"},{\"default\":0,\"kind\":null,\"name\":\"clears\"}]},{\"extends\":null,\"module\":null,\"name\":\"NotificationAreaBase1\",\"overrides\":[],\"properties\":[{\"default\":\"bottom-right\",\"kind\":null,\"name\":\"position\"},{\"default\":0,\"kind\":null,\"name\":\"_clear\"}]},{\"extends\":null,\"module\":null,\"name\":\"NotificationArea1\",\"overrides\":[],\"properties\":[{\"default\":[],\"kind\":null,\"name\":\"notifications\"},{\"default\":\"bottom-right\",\"kind\":null,\"name\":\"position\"},{\"default\":0,\"kind\":null,\"name\":\"_clear\"},{\"default\":[{\"background\":\"#ffc107\",\"icon\":{\"className\":\"fas fa-exclamation-triangle\",\"color\":\"white\",\"tagName\":\"i\"},\"type\":\"warning\"},{\"background\":\"#007bff\",\"icon\":{\"className\":\"fas fa-info-circle\",\"color\":\"white\",\"tagName\":\"i\"},\"type\":\"info\"}],\"kind\":null,\"name\":\"types\"}]},{\"extends\":null,\"module\":null,\"name\":\"Notification\",\"overrides\":[],\"properties\":[{\"default\":null,\"kind\":null,\"name\":\"background\"},{\"default\":3000,\"kind\":null,\"name\":\"duration\"},{\"default\":null,\"kind\":null,\"name\":\"icon\"},{\"default\":\"\",\"kind\":null,\"name\":\"message\"},{\"default\":null,\"kind\":null,\"name\":\"notification_type\"},{\"default\":false,\"kind\":null,\"name\":\"_destroyed\"}]},{\"extends\":null,\"module\":null,\"name\":\"TemplateActions1\",\"overrides\":[],\"properties\":[{\"default\":0,\"kind\":null,\"name\":\"open_modal\"},{\"default\":0,\"kind\":null,\"name\":\"close_modal\"}]},{\"extends\":null,\"module\":null,\"name\":\"MaterialTemplateActions1\",\"overrides\":[],\"properties\":[{\"default\":0,\"kind\":null,\"name\":\"open_modal\"},{\"default\":0,\"kind\":null,\"name\":\"close_modal\"}]}],\"roots\":{\"references\":[{\"attributes\":{\"children\":[{\"id\":\"4364\"},{\"id\":\"4369\"}],\"margin\":[0,0,0,0],\"name\":\"Column15282\"},\"id\":\"4363\",\"type\":\"Column\"},{\"attributes\":{\"editor\":{\"id\":\"4374\"},\"field\":\"index\",\"formatter\":{\"id\":\"4372\"},\"title\":\"index\",\"width\":0},\"id\":\"4375\",\"type\":\"TableColumn\"},{\"attributes\":{\"data\":{\"Country\":[\"Australia\",\"United Kingdom\",\"Germany\",\"France\",\"Canada\",\"United States\",\"United States\",\"Canada\",\"Germany\",\"United Kingdom\",\"Australia\",\"France\",\"Germany\",\"Australia\",\"France\",\"United States\",\"Canada\",\"United Kingdom\",\"France\",\"United States\",\"United Kingdom\",\"Canada\",\"Germany\",\"Australia\",\"Australia\",\"France\",\"United Kingdom\",\"Canada\",\"Germany\",\"United States\",\"France\",\"Germany\",\"Canada\",\"Australia\",\"United Kingdom\",\"United States\"],\"Revenue\":{\"__ndarray__\":\"DDVKxV4Cp0AkwwZx80aoQCDrmvtj86tAOexBJIe9r0DOdYziXE2rQC+/oWD3mKtAOAlVSr6WrEC1sNJTC+KsQPfHuub+AKxAyz6H1ASdqEBQST69n0KnQEwD9XlpIbBAk3aa6AAkhECgLNK8Rw+IQEQbxIf7h4NAQsUev1IfgkA6hftMUDx9QGqOdSWVsINA9xtl9xulfUDZ+wnXggV9QGcgwRzqlYFAP53wopxZeECauBAUGGCBQPGOrGrLVn5ABWBpdOq6kEDeIwVmlZ2JQIWRf7drLIpA/tzU29WJgUCIHdKl6sWKQPL2kpYOFYdAR1U/4O7wgkD1Jce7R7GGQM9NhGBwhntAVYrY2sRwg0A2/cRaMeKGQDSvChNxv4FA\",\"dtype\":\"float64\",\"order\":\"little\",\"shape\":[36]},\"Year\":[2011,2011,2011,2011,2011,2011,2012,2012,2012,2012,2012,2012,2013,2013,2013,2013,2013,2013,2014,2014,2014,2014,2014,2014,2015,2015,2015,2015,2015,2015,2016,2016,2016,2016,2016,2016],\"index\":[0,1,2,3,4,5,6,7,8,9,10,11,12,13,14,15,16,17,18,19,20,21,22,23,24,25,26,27,28,29,30,31,32,33,34,35]},\"selected\":{\"id\":\"4371\"},\"selection_policy\":{\"id\":\"4395\"}},\"id\":\"4370\",\"type\":\"ColumnDataSource\"},{\"attributes\":{\"text_align\":\"left\"},\"id\":\"4372\",\"type\":\"NumberFormatter\"},{\"attributes\":{\"children\":[{\"id\":\"4365\"},{\"id\":\"4368\"}],\"margin\":[0,0,0,0],\"name\":\"Row15281\"},\"id\":\"4364\",\"type\":\"Row\"},{\"attributes\":{},\"id\":\"4379\",\"type\":\"StringEditor\"},{\"attributes\":{},\"id\":\"4378\",\"type\":\"StringFormatter\"},{\"attributes\":{\"columns\":[{\"id\":\"4375\"},{\"id\":\"4380\"},{\"id\":\"4385\"},{\"id\":\"4390\"}],\"configuration\":{\"columns\":[{\"field\":\"index\",\"sorter\":\"number\"},{\"field\":\"Country\"},{\"field\":\"Year\",\"sorter\":\"number\"},{\"field\":\"Revenue\",\"sorter\":\"number\"}],\"dataTree\":false,\"selectable\":true},\"indexes\":[\"index\"],\"layout\":\"fit_data_table\",\"margin\":[5,10,5,10],\"name\":\"\",\"page\":1,\"page_size\":10,\"select_mode\":true,\"selectable_rows\":null,\"sizing_mode\":\"stretch_width\",\"source\":{\"id\":\"4370\"},\"styles\":{\"data\":{},\"id\":\"9046ba7e59b7423cb4df1308dcc480fd\"},\"subscribed_events\":[\"cell-click\",\"table-edit\"],\"theme_url\":\"https://cdn.jsdelivr.net/npm/@holoviz/panel@0.14.2/dist/bundled/datatabulator/tabulator-tables@5.3.2/dist/css/\"},\"id\":\"4393\",\"type\":\"panel.models.tabulator.DataTabulator\"},{\"attributes\":{\"format\":\"0,0.0[00000]\",\"text_align\":\"right\"},\"id\":\"4388\",\"type\":\"NumberFormatter\"},{\"attributes\":{\"client_comm_id\":\"6821319474174a179d81b41c8678aa60\",\"comm_id\":\"5c204f5b3f9c43e5b170d00f870aa096\",\"plot_id\":\"4362\"},\"id\":\"4401\",\"type\":\"panel.models.comm_manager.CommManager\"},{\"attributes\":{\"indices\":[]},\"id\":\"4371\",\"type\":\"Selection\"},{\"attributes\":{\"children\":[{\"id\":\"4393\"}],\"margin\":[0,0,0,0],\"name\":\"Row15247\"},\"id\":\"4369\",\"type\":\"Row\"},{\"attributes\":{\"editor\":{\"id\":\"4384\"},\"field\":\"Year\",\"formatter\":{\"id\":\"4383\"},\"title\":\"Year\",\"width\":0},\"id\":\"4385\",\"type\":\"TableColumn\"},{\"attributes\":{\"margin\":[5,5,5,5],\"name\":\"HSpacer15280\",\"sizing_mode\":\"stretch_width\"},\"id\":\"4368\",\"type\":\"Spacer\"},{\"attributes\":{\"text_align\":\"right\"},\"id\":\"4383\",\"type\":\"NumberFormatter\"},{\"attributes\":{\"active\":0,\"button_type\":\"success\",\"labels\":[\"Revenue\",\"Profit\",\"Cost\"],\"margin\":[5,10,5,10]},\"id\":\"4367\",\"type\":\"RadioButtonGroup\"},{\"attributes\":{\"editor\":{\"id\":\"4379\"},\"field\":\"Country\",\"formatter\":{\"id\":\"4378\"},\"title\":\"Country\",\"width\":0},\"id\":\"4380\",\"type\":\"TableColumn\"},{\"attributes\":{},\"id\":\"4395\",\"type\":\"UnionRenderers\"},{\"attributes\":{},\"id\":\"4384\",\"type\":\"IntEditor\"},{\"attributes\":{},\"id\":\"4389\",\"type\":\"NumberEditor\"},{\"attributes\":{\"end\":2016,\"margin\":[5,10,5,10],\"start\":2011,\"title\":\"Year slider\",\"value\":2016},\"id\":\"4366\",\"type\":\"Slider\"},{\"attributes\":{\"children\":[{\"id\":\"4363\"}],\"margin\":[0,0,0,0],\"name\":\"Row15283\"},\"id\":\"4362\",\"type\":\"Row\"},{\"attributes\":{\"children\":[{\"id\":\"4366\"},{\"id\":\"4367\"}],\"margin\":[0,0,0,0],\"name\":\"Column15242\"},\"id\":\"4365\",\"type\":\"Column\"},{\"attributes\":{\"editor\":{\"id\":\"4389\"},\"field\":\"Revenue\",\"formatter\":{\"id\":\"4388\"},\"title\":\"Revenue\",\"width\":0},\"id\":\"4390\",\"type\":\"TableColumn\"},{\"attributes\":{},\"id\":\"4374\",\"type\":\"CellEditor\"}],\"root_ids\":[\"4362\",\"4401\"]},\"title\":\"Bokeh Application\",\"version\":\"2.4.3\"}};\n",
       "    var render_items = [{\"docid\":\"b20f0d79-a002-4b83-ab83-0d9a1f90a01e\",\"root_ids\":[\"4362\"],\"roots\":{\"4362\":\"dc439e80-54eb-4953-ba40-551a1e100909\"}}];\n",
       "    root.Bokeh.embed.embed_items_notebook(docs_json, render_items);\n",
       "    for (const render_item of render_items) {\n",
       "      for (const root_id of render_item.root_ids) {\n",
       "\tconst id_el = document.getElementById(root_id)\n",
       "\tif (id_el.children.length && (id_el.children[0].className === 'bk-root')) {\n",
       "\t  const root_el = id_el.children[0]\n",
       "\t  root_el.id = root_el.id + '-rendered'\n",
       "\t}\n",
       "      }\n",
       "    }\n",
       "  }\n",
       "  if (root.Bokeh !== undefined && root.Bokeh.Panel !== undefined && ( root['Tabulator'] !== undefined) && ( root['Tabulator'] !== undefined)) {\n",
       "    embed_document(root);\n",
       "  } else {\n",
       "    var attempts = 0;\n",
       "    var timer = setInterval(function(root) {\n",
       "      if (root.Bokeh !== undefined && root.Bokeh.Panel !== undefined && (root['Tabulator'] !== undefined) && (root['Tabulator'] !== undefined)) {\n",
       "        clearInterval(timer);\n",
       "        embed_document(root);\n",
       "      } else if (document.readyState == \"complete\") {\n",
       "        attempts++;\n",
       "        if (attempts > 200) {\n",
       "          clearInterval(timer);\n",
       "          console.log(\"Bokeh: ERROR: Unable to run BokehJS code because BokehJS library is missing\");\n",
       "        }\n",
       "      }\n",
       "    }, 25, root)\n",
       "  }\n",
       "})(window);</script>"
      ],
      "text/plain": [
       "<hvplot.interactive.Interactive at 0x2794565e650>"
      ]
     },
     "execution_count": 41,
     "metadata": {
      "application/vnd.holoviews_exec.v0+json": {
       "id": "4362"
      }
     },
     "output_type": "execute_result"
    }
   ],
   "source": [
    "revenue_table = rev_pipeline.pipe(pn.widgets.Tabulator, pagingation='remote', page_size=10, sizing_mode='stretch_width')\n",
    "revenue_table"
   ]
  },
  {
   "cell_type": "code",
   "execution_count": 51,
   "id": "a5a4c62d-c4d7-4075-8ea5-ff70bdc97355",
   "metadata": {},
   "outputs": [
    {
     "name": "stderr",
     "output_type": "stream",
     "text": [
      "WARNING:param.Tabulator15992: Setting non-parameter attribute pagingation=remote using a mechanism intended only for parameters\n"
     ]
    }
   ],
   "source": [
    "#Creating a dashboad for visualization\n",
    "#We will use an already available template on panel\n",
    "\n",
    "template = pn.template.FastListTemplate(\n",
    "    title='Bike Sales Dashboad',\n",
    "    sidebar=[pn.pane.Markdown(\"# Bike sales between various age groups in different countries\"),\n",
    "             pn.pane.Markdown(\"### Bikes are goood exercising machines and is usually good for the older ones.\"),\n",
    "             pn.pane.JPG('rheinfelden-bike-store.jpg', sizing_mode='scale_both'),\n",
    "             pn.pane.Markdown(\"## Settings\"),\n",
    "             year_slider],\n",
    "    main=[pn.Row(pn.Column(yaxis_revenue, \n",
    "                           revenue_plot.panel(width=700), margin=(0,25)),\n",
    "                 revenue_table.panel(width=500))],\n",
    "    accent_base_color=\"#88d8b0\",\n",
    "    header_background=\"#88d8b0\",\n",
    ")\n",
    "\n",
    "template.servable();"
   ]
  },
  {
   "cell_type": "code",
   "execution_count": null,
   "id": "3ad64b15-1dcc-484f-93fd-b7c4dc708bd3",
   "metadata": {},
   "outputs": [],
   "source": []
  }
 ],
 "metadata": {
  "kernelspec": {
   "display_name": "Python 3 (ipykernel)",
   "language": "python",
   "name": "python3"
  },
  "language_info": {
   "codemirror_mode": {
    "name": "ipython",
    "version": 3
   },
   "file_extension": ".py",
   "mimetype": "text/x-python",
   "name": "python",
   "nbconvert_exporter": "python",
   "pygments_lexer": "ipython3",
   "version": "3.10.8"
  }
 },
 "nbformat": 4,
 "nbformat_minor": 5
}
